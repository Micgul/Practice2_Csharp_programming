{
  "nbformat": 4,
  "nbformat_minor": 0,
  "metadata": {
    "colab": {
      "name": "Practice6_1.ipynb",
      "provenance": [],
      "collapsed_sections": [],
      "authorship_tag": "ABX9TyP6FRp5wbemuN+O3WZQyrcH",
      "include_colab_link": true
    },
    "kernelspec": {
      "name": "python3",
      "display_name": "Python 3"
    },
    "language_info": {
      "name": "python"
    }
  },
  "cells": [
    {
      "cell_type": "markdown",
      "metadata": {
        "id": "view-in-github",
        "colab_type": "text"
      },
      "source": [
        "<a href=\"https://colab.research.google.com/github/Micgul/Practice2_programming/blob/master/Practice6_1.ipynb\" target=\"_parent\"><img src=\"https://colab.research.google.com/assets/colab-badge.svg\" alt=\"Open In Colab\"/></a>"
      ]
    },
    {
      "cell_type": "markdown",
      "metadata": {
        "id": "tzTLY5W2g33y"
      },
      "source": [
        "강의자료 19 페이지 - BFS를 통한 미로탐색 테스트"
      ]
    },
    {
      "cell_type": "code",
      "metadata": {
        "id": "8Pa8h9EXhl51"
      },
      "source": [
        "MAX_QSIZE = 10\n",
        "class CircularQueue():\n",
        "  def __init__(self):\n",
        "    self.front = 0\n",
        "    self.rear = 0\n",
        "    self.items = [None] * MAX_QSIZE\n",
        "  \n",
        "  def isEmpty(self):\n",
        "    return self.front == self.rear\n",
        "  def isFull(self):\n",
        "    return self.front == (self.rear + 1) % MAX_QSIZE\n",
        "  def clear(self):\n",
        "    self.front = self.rear\n",
        "\n",
        "  def enqueue(self, item):\n",
        "    if not self.isFull():\n",
        "      self.rear = (self.rear + 1) % MAX_QSIZE\n",
        "      self.items[self.rear] = item\n",
        "\n",
        "  def dequeue(self):\n",
        "    if not self.isEmpty():\n",
        "      self.front = (self.front + 1) % MAX_QSIZE\n",
        "      return self.items[self.front]\n",
        "\n",
        "  def peek(self):\n",
        "    if not self.isEmpty():\n",
        "      return self.items[(self.front + 1) % MAX_QSIZE]\n",
        "\n",
        "  def size(self):\n",
        "    return abs(self.rear - self.front) % MAX_QSIZE\n",
        "\n",
        "  def display(self):\n",
        "    out = []\n",
        "    if self.front < self.rear :\n",
        "      out = self.items[self.front+1 : self.rear+1]\n",
        "    else :\n",
        "      out = self.items[self.front+1 : MAX_QSIZE] + self.items[0:self.rear+1]\n",
        "    print(\"[f=%d,r=%d ==> \"%(self.front, self.rear), out)"
      ],
      "execution_count": null,
      "outputs": []
    },
    {
      "cell_type": "code",
      "metadata": {
        "id": "7zJGZjLBhlHq"
      },
      "source": [
        "def isValidPos(x,y):\n",
        "  if x<0 or y<0 or x>=MAZE_SIZE or y>= MAZE_SIZE:\n",
        "    return False\n",
        "  else:\n",
        "    return map[y][x] == '0' or map[y][x] == 'x'"
      ],
      "execution_count": null,
      "outputs": []
    },
    {
      "cell_type": "code",
      "metadata": {
        "id": "tR8DljwY5XB3"
      },
      "source": [
        "def BFS():\n",
        "  que = CircularQueue()\n",
        "  que.enqueue((0,1))\n",
        "  print('BFS: ')\n",
        "\n",
        "  while not que.isEmpty():\n",
        "    here = que.dequeue()\n",
        "    print(here, end='->')\n",
        "    x,y = here\n",
        "    if (map[y][x] == 'x') : return True\n",
        "    else : \n",
        "      map[y][x] = '.'\n",
        "      if isValidPos(x, y-1) : que.enqueue((x,y-1))\n",
        "      if isValidPos(x, y+1) : que.enqueue((x,y+1))\n",
        "      if isValidPos(x-1, y) : que.enqueue((x-1,y))\n",
        "      if isValidPos(x+1, y) : que.enqueue((x+1,y))\n",
        "  return False\n",
        "      "
      ],
      "execution_count": null,
      "outputs": []
    },
    {
      "cell_type": "code",
      "metadata": {
        "id": "59hvcfZJzrN6",
        "colab": {
          "base_uri": "https://localhost:8080/"
        },
        "outputId": "c0f3f302-8bb4-41ba-d068-bd4d4572954d"
      },
      "source": [
        "map = [['1','1','1','1','1','1'],\n",
        "       ['e','0','1','0','0','1'],\n",
        "       ['1','0','0','0','1','1'],\n",
        "       ['1','0','1','0','1','1'],\n",
        "       ['1','0','1','0','0','x'],\n",
        "       ['1','1','1','1','1','1']]\n",
        "MAZE_SIZE = 6\n",
        "result = BFS()\n",
        "if result : print(' --> 미로 탐색 성공')\n",
        "else : print(' --> 미로 탐색 실패')"
      ],
      "execution_count": null,
      "outputs": [
        {
          "output_type": "stream",
          "text": [
            "BFS: \n",
            "(0, 1)->(1, 1)->(1, 2)->(1, 3)->(2, 2)->(1, 4)->(3, 2)->(3, 1)->(3, 3)->(4, 1)->(3, 4)->(4, 4)->(5, 4)-> --> 미로 탐색 성공\n"
          ],
          "name": "stdout"
        }
      ]
    }
  ]
}