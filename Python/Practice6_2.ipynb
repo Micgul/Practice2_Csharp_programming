{
  "nbformat": 4,
  "nbformat_minor": 0,
  "metadata": {
    "colab": {
      "name": "Practice6_2.ipynb",
      "provenance": [],
      "collapsed_sections": [],
      "authorship_tag": "ABX9TyOQne0jtPR1+bb+2uFOznVp",
      "include_colab_link": true
    },
    "kernelspec": {
      "name": "python3",
      "display_name": "Python 3"
    },
    "language_info": {
      "name": "python"
    }
  },
  "cells": [
    {
      "cell_type": "markdown",
      "metadata": {
        "id": "view-in-github",
        "colab_type": "text"
      },
      "source": [
        "<a href=\"https://colab.research.google.com/github/Micgul/Practice2_programming/blob/master/Practice6_2.ipynb\" target=\"_parent\"><img src=\"https://colab.research.google.com/assets/colab-badge.svg\" alt=\"Open In Colab\"/></a>"
      ]
    },
    {
      "cell_type": "markdown",
      "metadata": {
        "id": "8VZb6IVq6lAX"
      },
      "source": [
        "강의자료 41페이지 - Priority Queue를 통한 미로 탐색"
      ]
    },
    {
      "cell_type": "code",
      "metadata": {
        "id": "a1rZF2CX6PPp"
      },
      "source": [
        "class PriorityQueue :\n",
        "  def __init__(self):\n",
        "    self.items = []\n",
        "  \n",
        "  def isEmpty(self):\n",
        "    return len(self.items) == 0\n",
        "\n",
        "  def size(self): return len(self.items)\n",
        "  def clear(self): self.items = []\n",
        "  \n",
        "  def enqueue(self, item) : \n",
        "    self.items.append(item)\n",
        "  def findMaxIndex(self): # 나머지는 모르겠고, 제일 큰것만 발견\n",
        "    if self.isEmpty(): return None\n",
        "    else:\n",
        "      highest = 0\n",
        "      for i in range(1, self.size()) : # 모든 항목에 대해서 \n",
        "        if self.items[i] > self.items[highest]:\n",
        "          highest = i\n",
        "      return highest # 결과는 가장 큰값을 가진 인덱스\n",
        "  def dequeue(self):\n",
        "    highest = self.findMaxIndex()\n",
        "    if highest is not None:\n",
        "      return self.items.pop(highest)\n",
        "\n",
        "  def peek(self):\n",
        "    highest = findMaxIndex()\n",
        "    if highest is not None:\n",
        "      return self.items[highest]"
      ],
      "execution_count": null,
      "outputs": []
    },
    {
      "cell_type": "code",
      "metadata": {
        "id": "UXFKQDST-NeM"
      },
      "source": [
        "import math\n",
        "(ox,oy) = (5,4) #출구\n",
        "def dist(x,y):\n",
        "  (dx,dy) = (ox-x, oy-y)\n",
        "  return math.sqrt(dx*dx + dy*dy) # 유클리드 거리계산"
      ],
      "execution_count": null,
      "outputs": []
    },
    {
      "cell_type": "code",
      "metadata": {
        "id": "karTdwMf-rsC"
      },
      "source": [
        "def findMaxIndex(self): #좌표용(미로)\n",
        "    if self.isEmpty(): return None\n",
        "    else:\n",
        "      highest = 0\n",
        "      for i in range(1, self.size()) : \n",
        "        if self.items[i][2] > self.items[highest][2]:\n",
        "          highest = i\n",
        "      return highest"
      ],
      "execution_count": null,
      "outputs": []
    },
    {
      "cell_type": "code",
      "metadata": {
        "id": "qbJLF5d2ZtsR"
      },
      "source": [
        "def isValidPos(x,y):\n",
        "  if x<0 or y<0 or x>=MAZE_SIZE or y>= MAZE_SIZE:\n",
        "    return False\n",
        "  else:\n",
        "    return map[y][x] == '0' or map[y][x] == 'x'"
      ],
      "execution_count": null,
      "outputs": []
    },
    {
      "cell_type": "code",
      "metadata": {
        "id": "IjqygDAy_FlI"
      },
      "source": [
        "def mySmartSearch() :\n",
        "  q = PriorityQueue()\n",
        "  q.enqueue((0,1,-dist(0,1)))\n",
        "  print('PQueue: ')\n",
        "\n",
        "  while not q.isEmpty():\n",
        "    here = q.dequeue()\n",
        "    print(here[0:2], end='->')\n",
        "    x,y,_ = here\n",
        "    if (map[y][x] == 'x') : return True\n",
        "    else :\n",
        "      map[y][x] = '.'\n",
        "      if isValidPos(x,y-1) : q.enqueue((x,y-1, -dist(x,y-1)))\n",
        "      if isValidPos(x,y+1) : q.enqueue((x,y+1, -dist(x,y+1)))\n",
        "      if isValidPos(x-1,y) : q.enqueue((x-1,y, -dist(x-1,y)))\n",
        "      if isValidPos(x+1,y) : q.enqueue((x+1,y, -dist(x+1,y)))\n",
        "    print('우선순위큐: ', q.items)\n",
        "  return False\n",
        "\n"
      ],
      "execution_count": null,
      "outputs": []
    },
    {
      "cell_type": "code",
      "metadata": {
        "colab": {
          "base_uri": "https://localhost:8080/"
        },
        "id": "XvQvL7LsZAhg",
        "outputId": "50dfc3b5-57b4-44bf-df3c-e5cdf532fd2a"
      },
      "source": [
        "map = [['1','1','1','1','1','1'],\n",
        "       ['e','0','1','0','0','1'],\n",
        "       ['1','0','0','0','1','1'],\n",
        "       ['1','0','1','0','1','1'],\n",
        "       ['1','0','1','0','0','x'],\n",
        "       ['1','1','1','1','1','1']]\n",
        "MAZE_SIZE = 6\n",
        "result = mySmartSearch()\n",
        "if result : print(' --> 미로 탐색 성공')\n",
        "else : print(' --> 미로 탐색 실패')"
      ],
      "execution_count": null,
      "outputs": [
        {
          "output_type": "stream",
          "text": [
            "PQueue: \n",
            "(0, 1)->우선순위큐:  [(1, 1, -5.0)]\n",
            "(1, 1)->우선순위큐:  [(1, 2, -4.47213595499958)]\n",
            "(1, 2)->우선순위큐:  [(1, 3, -4.123105625617661), (2, 2, -3.605551275463989)]\n",
            "(2, 2)->우선순위큐:  [(1, 3, -4.123105625617661), (3, 2, -2.8284271247461903)]\n",
            "(3, 2)->우선순위큐:  [(1, 3, -4.123105625617661), (3, 1, -3.605551275463989), (3, 3, -2.23606797749979)]\n",
            "(3, 3)->우선순위큐:  [(1, 3, -4.123105625617661), (3, 1, -3.605551275463989), (3, 4, -2.0)]\n",
            "(3, 4)->우선순위큐:  [(1, 3, -4.123105625617661), (3, 1, -3.605551275463989), (4, 4, -1.0)]\n",
            "(4, 4)->우선순위큐:  [(1, 3, -4.123105625617661), (3, 1, -3.605551275463989), (5, 4, -0.0)]\n",
            "(5, 4)-> --> 미로 탐색 성공\n"
          ],
          "name": "stdout"
        }
      ]
    },
    {
      "cell_type": "code",
      "metadata": {
        "id": "hwbfJfdBZpOl"
      },
      "source": [
        ""
      ],
      "execution_count": null,
      "outputs": []
    }
  ]
}